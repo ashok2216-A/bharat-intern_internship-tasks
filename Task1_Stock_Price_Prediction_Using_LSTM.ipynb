{
  "nbformat": 4,
  "nbformat_minor": 0,
  "metadata": {
    "colab": {
      "private_outputs": true,
      "provenance": [],
      "authorship_tag": "ABX9TyOK2l56hXRz/MVbig7LVsw3",
      "include_colab_link": true
    },
    "kernelspec": {
      "name": "python3",
      "display_name": "Python 3"
    },
    "language_info": {
      "name": "python"
    }
  },
  "cells": [
    {
      "cell_type": "markdown",
      "metadata": {
        "id": "view-in-github",
        "colab_type": "text"
      },
      "source": [
        "<a href=\"https://colab.research.google.com/github/ashok2216-A/bharat-intern_internship-tasks/blob/main/Task1_Stock_Price_Prediction_Using_LSTM.ipynb\" target=\"_parent\"><img src=\"https://colab.research.google.com/assets/colab-badge.svg\" alt=\"Open In Colab\"/></a>"
      ]
    },
    {
      "cell_type": "code",
      "source": [
        "!pip install yahoofinancials"
      ],
      "metadata": {
        "id": "ASwnCp91woA2"
      },
      "execution_count": null,
      "outputs": []
    },
    {
      "cell_type": "markdown",
      "source": [
        "**Import Libraries**"
      ],
      "metadata": {
        "id": "PYLUt7_rY_Db"
      }
    },
    {
      "cell_type": "code",
      "execution_count": null,
      "metadata": {
        "id": "5uKM-WactWz8"
      },
      "outputs": [],
      "source": [
        "import numpy as np\n",
        "import pandas as pd\n",
        "import pandas_datareader as web\n",
        "import seaborn as sns\n",
        "import matplotlib.pyplot as plt\n",
        "%matplotlib inline\n",
        "plt.style.use('seaborn-darkgrid')\n",
        "# plt.style.use('dark_background')\n",
        "plt.rc('figure', figsize=(18,8))\n",
        "plt.rc('lines', markersize=1)\n",
        "plt.rc('font', size=10)\n",
        "import warnings\n",
        "warnings.filterwarnings('ignore')\n",
        "import datetime\n",
        "from datetime import datetime\n",
        "import yfinance as yf\n",
        "from yahoofinancials import YahooFinancials\n",
        "!rm -rf ./logs/\n",
        "import sklearn\n",
        "from sklearn.model_selection import train_test_split\n",
        "from sklearn.preprocessing import MinMaxScaler\n",
        "import tensorflow as tf\n",
        "from tensorflow import keras\n",
        "%load_ext tensorboard\n",
        "from keras.models import Sequential # For creating a sequential neural network model\n",
        "from keras.layers import Dense, Dropout, LSTM, Bidirectional"
      ]
    },
    {
      "cell_type": "markdown",
      "source": [
        "**Import Data**"
      ],
      "metadata": {
        "id": "3Q8uLPbpZYWp"
      }
    },
    {
      "cell_type": "code",
      "source": [
        "data = yf.download('GOOG', start='2015-01-01', end=datetime.now(), progress=True)\n",
        "data.head(10)"
      ],
      "metadata": {
        "id": "egUJ-iXmv2Dn"
      },
      "execution_count": null,
      "outputs": []
    },
    {
      "cell_type": "markdown",
      "source": [
        "**Dataset Information**"
      ],
      "metadata": {
        "id": "jZ20GrasZf4M"
      }
    },
    {
      "cell_type": "code",
      "source": [
        "data.shape"
      ],
      "metadata": {
        "id": "3Y1wi-Ney6dZ"
      },
      "execution_count": null,
      "outputs": []
    },
    {
      "cell_type": "code",
      "source": [
        "data.isnull().sum()"
      ],
      "metadata": {
        "id": "JDhBJ7kN1z5l"
      },
      "execution_count": null,
      "outputs": []
    },
    {
      "cell_type": "code",
      "source": [
        "print('Duplicate: ',data.duplicated().sum())"
      ],
      "metadata": {
        "id": "IAgB0vCz12aQ"
      },
      "execution_count": null,
      "outputs": []
    },
    {
      "cell_type": "code",
      "source": [
        "data.info()"
      ],
      "metadata": {
        "id": "IiFhtCeSy8RY"
      },
      "execution_count": null,
      "outputs": []
    },
    {
      "cell_type": "code",
      "source": [
        "data.describe().astype('float')"
      ],
      "metadata": {
        "id": "PNcMzNUyzAal"
      },
      "execution_count": null,
      "outputs": []
    },
    {
      "cell_type": "markdown",
      "source": [
        "**Ploting Relationship between Opening and Closing Stock**"
      ],
      "metadata": {
        "id": "ndzDTcGLZqVJ"
      }
    },
    {
      "cell_type": "code",
      "source": [
        "plt.title('Google Stock Price ($)')\n",
        "plt.xlabel('Open Stock Price ($)')\n",
        "plt.ylabel('Close Stock Price ($)')\n",
        "plt.scatter(data['Open'],data['Close'])\n",
        "plt.show()"
      ],
      "metadata": {
        "id": "QJnk_aNDw3Q4"
      },
      "execution_count": null,
      "outputs": []
    },
    {
      "cell_type": "markdown",
      "source": [
        "**Visualizing Opening and Closing Stock Price**"
      ],
      "metadata": {
        "id": "shpUkDlyZ87m"
      }
    },
    {
      "cell_type": "code",
      "source": [
        "data[['Open', 'Close']].plot()\n",
        "plt.xticks(rotation=45)\n",
        "plt.xlabel('Date',size=15)\n",
        "plt.ylabel('Stock Price',size=15)\n",
        "plt.title('Google Stock Closing Price and Opening Price($)',size=15)\n",
        "plt.show()"
      ],
      "metadata": {
        "id": "bL_lmpvYx_lv"
      },
      "execution_count": null,
      "outputs": []
    },
    {
      "cell_type": "markdown",
      "source": [
        "**Visualizing Overall Dataframe**"
      ],
      "metadata": {
        "id": "ZZ4Xpng7aJxl"
      }
    },
    {
      "cell_type": "code",
      "source": [
        "data[['Open', 'Close', 'High', 'Low', 'Adj Close']].plot()\n",
        "plt.xticks(rotation=45)\n",
        "plt.xlabel('Date',size=15)\n",
        "plt.ylabel('Stock Price',size=15)\n",
        "plt.title('Google Stock Closing Price and Opening Price($)',size=15)\n",
        "plt.show()"
      ],
      "metadata": {
        "id": "sp0My3-4CJ70"
      },
      "execution_count": null,
      "outputs": []
    },
    {
      "cell_type": "code",
      "source": [
        "data = data[['Open', 'Close']]\n",
        "data.head(3)"
      ],
      "metadata": {
        "id": "cBAC7RBXHE8U"
      },
      "execution_count": null,
      "outputs": []
    },
    {
      "cell_type": "markdown",
      "source": [
        "**Doing Feature Engineering**"
      ],
      "metadata": {
        "id": "xPPWdXpHaWyn"
      }
    },
    {
      "cell_type": "code",
      "source": [
        "MMS = MinMaxScaler()\n",
        "data[data.columns] = MMS.fit_transform(data)\n",
        "data"
      ],
      "metadata": {
        "id": "6g89f5dxEHOU"
      },
      "execution_count": null,
      "outputs": []
    },
    {
      "cell_type": "markdown",
      "source": [
        "**Spliting the Data**"
      ],
      "metadata": {
        "id": "v5f6cYbCaiQa"
      }
    },
    {
      "cell_type": "code",
      "source": [
        "training_size = round(len(data) * 0.75)\n",
        "print(training_size)\n",
        "train_data = data[:training_size]\n",
        "test_data = data[training_size:]\n",
        "print(train_data.shape, test_data.shape)"
      ],
      "metadata": {
        "id": "Ksm_aFlfExOv"
      },
      "execution_count": null,
      "outputs": []
    },
    {
      "cell_type": "markdown",
      "source": [
        "**Sequencing the Data**"
      ],
      "metadata": {
        "id": "Eiy-A4lgaoP6"
      }
    },
    {
      "cell_type": "code",
      "source": [
        "def create_sequence(dataset):\n",
        "  sequences = []\n",
        "  labels = []\n",
        "\n",
        "  start_idx = 0\n",
        "\n",
        "  for stop_idx in range(50,len(dataset)): # Selecting 50 rows at a time\n",
        "    sequences.append(dataset.iloc[start_idx:stop_idx])\n",
        "    labels.append(dataset.iloc[stop_idx])\n",
        "    start_idx += 1\n",
        "  return (np.array(sequences),np.array(labels))"
      ],
      "metadata": {
        "id": "nON8UnBlDLNY"
      },
      "execution_count": null,
      "outputs": []
    },
    {
      "cell_type": "code",
      "source": [
        "train_seq, train_label = create_sequence(train_data)\n",
        "test_seq, test_label = create_sequence(test_data)\n",
        "train_seq.shape, train_label.shape, test_seq.shape, test_label.shape"
      ],
      "metadata": {
        "id": "2yfGM_IVDK0n"
      },
      "execution_count": null,
      "outputs": []
    },
    {
      "cell_type": "markdown",
      "source": [
        "**Model Selection**"
      ],
      "metadata": {
        "id": "CuwWtQwFavmz"
      }
    },
    {
      "cell_type": "code",
      "source": [
        "model = Sequential()\n",
        "model.add(LSTM(units=50, return_sequences=True, input_shape=(train_seq.shape[1], train_seq.shape[2])))\n",
        "model.add(Dropout(0.1))\n",
        "model.add(LSTM(units=50))\n",
        "model.add(Dense(2))\n",
        "model.compile(loss='mean_squared_error', optimizer='adam', metrics=['mean_absolute_error'])\n",
        "model.summary()"
      ],
      "metadata": {
        "id": "S9BMb5N3DKSJ"
      },
      "execution_count": null,
      "outputs": []
    },
    {
      "cell_type": "code",
      "source": [
        "\n",
        "model.fit(train_seq, train_label, epochs=15,validation_data=(test_seq, test_label), verbose=1)"
      ],
      "metadata": {
        "id": "KlelVCFNF1kV"
      },
      "execution_count": null,
      "outputs": []
    },
    {
      "cell_type": "code",
      "source": [
        "test_predicted = model.predict(test_seq)\n",
        "test_predicted[:5]"
      ],
      "metadata": {
        "id": "MiZjpUqoNAkO"
      },
      "execution_count": null,
      "outputs": []
    },
    {
      "cell_type": "code",
      "source": [
        "test_inverse_predicted = MMS.inverse_transform(test_predicted)\n",
        "test_inverse_predicted[:5]"
      ],
      "metadata": {
        "id": "e7nGY3rxNGXv"
      },
      "execution_count": null,
      "outputs": []
    },
    {
      "cell_type": "code",
      "source": [
        "df_merge = pd.concat([data.iloc[-test_seq.shape[0]:].copy(),\n",
        "                          pd.DataFrame(test_inverse_predicted,columns=['open_predicted','close_predicted'],\n",
        "                                       index=data.iloc[-test_seq.shape[0]:].index)], axis=1)"
      ],
      "metadata": {
        "id": "NBP2gQ6bNOSQ"
      },
      "execution_count": null,
      "outputs": []
    },
    {
      "cell_type": "code",
      "source": [
        "df_merge[['Open','Close']] = MMS.inverse_transform(df_merge[['Open','Close']])\n",
        "df_merge.head()"
      ],
      "metadata": {
        "id": "woE2-2ebRDAi"
      },
      "execution_count": null,
      "outputs": []
    },
    {
      "cell_type": "code",
      "source": [
        "# plotting the actual open and predicted open prices on date index\n",
        "df_merge[['Open','open_predicted']].plot(figsize=(10,6))\n",
        "plt.xticks(rotation=45)\n",
        "plt.xlabel('Date',size=15)\n",
        "plt.ylabel('Stock Price',size=15)\n",
        "plt.title('Actual vs Predicted for open price',size=15)\n",
        "plt.show()"
      ],
      "metadata": {
        "id": "ocJ_UCBLRQZs"
      },
      "execution_count": null,
      "outputs": []
    },
    {
      "cell_type": "code",
      "source": [
        "df_merge[['Close','close_predicted']].plot(figsize=(10,6))\n",
        "plt.xticks(rotation=45)\n",
        "plt.xlabel('Date',size=15)\n",
        "plt.ylabel('Stock Price',size=15)\n",
        "plt.title('Actual vs Predicted for close price',size=15)\n",
        "plt.show()"
      ],
      "metadata": {
        "id": "KVmA4fVKj-FP"
      },
      "execution_count": null,
      "outputs": []
    },
    {
      "cell_type": "markdown",
      "source": [
        "**Adding Extra 10 Days for future Prediction**"
      ],
      "metadata": {
        "id": "7Ma7eopEbGgp"
      }
    },
    {
      "cell_type": "code",
      "source": [
        "df_merge = df_merge.append(pd.DataFrame(columns=df_merge.columns,\n",
        "                                        index=pd.date_range(start=df_merge.index[-1], periods=11, freq='D', closed='right')))\n",
        "df_merge['2023-09-15':'2023-10-25']"
      ],
      "metadata": {
        "id": "VyDYWwgfndpo"
      },
      "execution_count": null,
      "outputs": []
    },
    {
      "cell_type": "code",
      "source": [
        "upcoming_prediction = pd.DataFrame(columns=['open','close'],index=df_merge.index)\n",
        "upcoming_prediction.index=pd.to_datetime(upcoming_prediction.index)"
      ],
      "metadata": {
        "id": "WCbZBy4QqQ7Z"
      },
      "execution_count": null,
      "outputs": []
    },
    {
      "cell_type": "code",
      "source": [
        "curr_seq = test_seq[-1:]\n",
        "\n",
        "for i in range(-10,0):\n",
        "  up_pred = model.predict(curr_seq)\n",
        "  upcoming_prediction.iloc[i] = up_pred\n",
        "  curr_seq = np.append(curr_seq[0][1:],up_pred,axis=0)\n",
        "  curr_seq = curr_seq.reshape(test_seq[-1:].shape)"
      ],
      "metadata": {
        "id": "4kRSBpNjqS8m"
      },
      "execution_count": null,
      "outputs": []
    },
    {
      "cell_type": "code",
      "source": [
        "upcoming_prediction[['open','close']] = MMS.inverse_transform(upcoming_prediction[['open','close']])"
      ],
      "metadata": {
        "id": "O295XsOyqXMU"
      },
      "execution_count": null,
      "outputs": []
    },
    {
      "cell_type": "markdown",
      "source": [
        "**Visualizing Predicted Data**"
      ],
      "metadata": {
        "id": "lTDge4aDbVL9"
      }
    },
    {
      "cell_type": "code",
      "source": [
        "# plotting Upcoming Open price on date index\n",
        "fig,ax=plt.subplots(figsize=(10,5))\n",
        "ax.plot(df_merge.loc['2023-06-25':,'Open'],label='Current Open Price')\n",
        "ax.plot(upcoming_prediction.loc['2023-9-15':,'open'],label='Upcoming Open Price')\n",
        "plt.setp(ax.xaxis.get_majorticklabels(), rotation=45)\n",
        "ax.set_xlabel('Date',size=15)\n",
        "ax.set_ylabel('Stock Price',size=15)\n",
        "ax.set_title('Upcoming Open price prediction',size=15)\n",
        "ax.legend()\n",
        "fig.show()"
      ],
      "metadata": {
        "id": "zZdfmHrVqc6A"
      },
      "execution_count": null,
      "outputs": []
    },
    {
      "cell_type": "code",
      "source": [
        "# plotting Upcoming Open price on date index\n",
        "fig,ax=plt.subplots(figsize=(10,5))\n",
        "ax.plot(df_merge.loc['2023-06-25':,'Close'],label='Current Close Price')\n",
        "ax.plot(upcoming_prediction.loc['2023-9-15':,'close'],label='Upcoming Close Price')\n",
        "plt.setp(ax.xaxis.get_majorticklabels(), rotation=45)\n",
        "ax.set_xlabel('Date',size=15)\n",
        "ax.set_ylabel('Stock Price',size=15)\n",
        "ax.set_title('Upcoming Close price prediction',size=15)\n",
        "ax.legend()\n",
        "fig.show()"
      ],
      "metadata": {
        "id": "7ATa_KCc8J2Y"
      },
      "execution_count": null,
      "outputs": []
    }
  ]
}